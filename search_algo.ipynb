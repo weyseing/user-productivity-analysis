{
  "cells": [
    {
      "cell_type": "markdown",
      "source": [
        "## Import "
      ],
      "metadata": {
        "nteract": {
          "transient": {
            "deleting": false
          }
        }
      }
    },
    {
      "cell_type": "code",
      "source": [
        "import pandas as pd\n",
        "from sklearn.model_selection import train_test_split\n",
        "from sklearn.preprocessing import StandardScaler, OneHotEncoder\n",
        "from sklearn.impute import SimpleImputer # Corrected import for SimpleImputer\n",
        "from sklearn.compose import ColumnTransformer\n",
        "from sklearn.pipeline import Pipeline\n",
        "import numpy as np"
      ],
      "outputs": [],
      "execution_count": 4,
      "metadata": {
        "gather": {
          "logged": 1750464457486
        }
      }
    },
    {
      "cell_type": "markdown",
      "source": [
        "## Dataset"
      ],
      "metadata": {
        "nteract": {
          "transient": {
            "deleting": false
          }
        }
      }
    },
    {
      "cell_type": "code",
      "source": [
        "df = pd.read_csv(\"social_media_vs_productivity.csv\")\n",
        "df.head().T"
      ],
      "outputs": [
        {
          "output_type": "execute_result",
          "execution_count": 5,
          "data": {
            "text/plain": "                                         0         1          2           3  \\\nage                                     56        46         32          60   \ngender                                Male      Male       Male      Female   \njob_type                        Unemployed    Health    Finance  Unemployed   \ndaily_social_media_time            4.18094  3.249603        NaN         NaN   \nsocial_platform_preference        Facebook   Twitter    Twitter    Facebook   \nnumber_of_notifications                 61        59         57          59   \nwork_hours_per_day                6.753558  9.169296   7.910952    6.355027   \nperceived_productivity_score      8.040464  5.063368   3.861762    2.916331   \nactual_productivity_score         7.291555  5.165093   3.474053    1.774869   \nstress_level                           4.0       7.0        4.0         6.0   \nsleep_hours                       5.116546  5.103897   8.583222    6.052984   \nscreen_time_before_sleep          0.419102  0.671519   0.624378     1.20454   \nbreaks_during_work                       8         7          0           1   \nuses_focus_apps                      False      True       True       False   \nhas_digital_wellbeing_enabled        False      True      False       False   \ncoffee_consumption_per_day               4         2          3           0   \ndays_feeling_burnout_per_month          11        25         17           4   \nweekly_offline_hours             21.927072       0.0  10.322044   23.876616   \njob_satisfaction_score            6.336688  3.412427   2.474944     1.73367   \n\n                                        4  \nage                                    25  \ngender                               Male  \njob_type                               IT  \ndaily_social_media_time               NaN  \nsocial_platform_preference       Telegram  \nnumber_of_notifications                66  \nwork_hours_per_day               6.214096  \nperceived_productivity_score     8.868753  \nactual_productivity_score             NaN  \nstress_level                          7.0  \nsleep_hours                      5.405706  \nscreen_time_before_sleep         1.876254  \nbreaks_during_work                      1  \nuses_focus_apps                     False  \nhas_digital_wellbeing_enabled        True  \ncoffee_consumption_per_day              1  \ndays_feeling_burnout_per_month         30  \nweekly_offline_hours            10.653519  \njob_satisfaction_score            9.69306  ",
            "text/html": "<div>\n<style scoped>\n    .dataframe tbody tr th:only-of-type {\n        vertical-align: middle;\n    }\n\n    .dataframe tbody tr th {\n        vertical-align: top;\n    }\n\n    .dataframe thead th {\n        text-align: right;\n    }\n</style>\n<table border=\"1\" class=\"dataframe\">\n  <thead>\n    <tr style=\"text-align: right;\">\n      <th></th>\n      <th>0</th>\n      <th>1</th>\n      <th>2</th>\n      <th>3</th>\n      <th>4</th>\n    </tr>\n  </thead>\n  <tbody>\n    <tr>\n      <th>age</th>\n      <td>56</td>\n      <td>46</td>\n      <td>32</td>\n      <td>60</td>\n      <td>25</td>\n    </tr>\n    <tr>\n      <th>gender</th>\n      <td>Male</td>\n      <td>Male</td>\n      <td>Male</td>\n      <td>Female</td>\n      <td>Male</td>\n    </tr>\n    <tr>\n      <th>job_type</th>\n      <td>Unemployed</td>\n      <td>Health</td>\n      <td>Finance</td>\n      <td>Unemployed</td>\n      <td>IT</td>\n    </tr>\n    <tr>\n      <th>daily_social_media_time</th>\n      <td>4.18094</td>\n      <td>3.249603</td>\n      <td>NaN</td>\n      <td>NaN</td>\n      <td>NaN</td>\n    </tr>\n    <tr>\n      <th>social_platform_preference</th>\n      <td>Facebook</td>\n      <td>Twitter</td>\n      <td>Twitter</td>\n      <td>Facebook</td>\n      <td>Telegram</td>\n    </tr>\n    <tr>\n      <th>number_of_notifications</th>\n      <td>61</td>\n      <td>59</td>\n      <td>57</td>\n      <td>59</td>\n      <td>66</td>\n    </tr>\n    <tr>\n      <th>work_hours_per_day</th>\n      <td>6.753558</td>\n      <td>9.169296</td>\n      <td>7.910952</td>\n      <td>6.355027</td>\n      <td>6.214096</td>\n    </tr>\n    <tr>\n      <th>perceived_productivity_score</th>\n      <td>8.040464</td>\n      <td>5.063368</td>\n      <td>3.861762</td>\n      <td>2.916331</td>\n      <td>8.868753</td>\n    </tr>\n    <tr>\n      <th>actual_productivity_score</th>\n      <td>7.291555</td>\n      <td>5.165093</td>\n      <td>3.474053</td>\n      <td>1.774869</td>\n      <td>NaN</td>\n    </tr>\n    <tr>\n      <th>stress_level</th>\n      <td>4.0</td>\n      <td>7.0</td>\n      <td>4.0</td>\n      <td>6.0</td>\n      <td>7.0</td>\n    </tr>\n    <tr>\n      <th>sleep_hours</th>\n      <td>5.116546</td>\n      <td>5.103897</td>\n      <td>8.583222</td>\n      <td>6.052984</td>\n      <td>5.405706</td>\n    </tr>\n    <tr>\n      <th>screen_time_before_sleep</th>\n      <td>0.419102</td>\n      <td>0.671519</td>\n      <td>0.624378</td>\n      <td>1.20454</td>\n      <td>1.876254</td>\n    </tr>\n    <tr>\n      <th>breaks_during_work</th>\n      <td>8</td>\n      <td>7</td>\n      <td>0</td>\n      <td>1</td>\n      <td>1</td>\n    </tr>\n    <tr>\n      <th>uses_focus_apps</th>\n      <td>False</td>\n      <td>True</td>\n      <td>True</td>\n      <td>False</td>\n      <td>False</td>\n    </tr>\n    <tr>\n      <th>has_digital_wellbeing_enabled</th>\n      <td>False</td>\n      <td>True</td>\n      <td>False</td>\n      <td>False</td>\n      <td>True</td>\n    </tr>\n    <tr>\n      <th>coffee_consumption_per_day</th>\n      <td>4</td>\n      <td>2</td>\n      <td>3</td>\n      <td>0</td>\n      <td>1</td>\n    </tr>\n    <tr>\n      <th>days_feeling_burnout_per_month</th>\n      <td>11</td>\n      <td>25</td>\n      <td>17</td>\n      <td>4</td>\n      <td>30</td>\n    </tr>\n    <tr>\n      <th>weekly_offline_hours</th>\n      <td>21.927072</td>\n      <td>0.0</td>\n      <td>10.322044</td>\n      <td>23.876616</td>\n      <td>10.653519</td>\n    </tr>\n    <tr>\n      <th>job_satisfaction_score</th>\n      <td>6.336688</td>\n      <td>3.412427</td>\n      <td>2.474944</td>\n      <td>1.73367</td>\n      <td>9.69306</td>\n    </tr>\n  </tbody>\n</table>\n</div>"
          },
          "metadata": {}
        }
      ],
      "execution_count": 5,
      "metadata": {
        "gather": {
          "logged": 1750464459701
        }
      }
    },
    {
      "cell_type": "markdown",
      "source": [
        "## Preprocessing"
      ],
      "metadata": {
        "nteract": {
          "transient": {
            "deleting": false
          }
        }
      }
    },
    {
      "cell_type": "code",
      "source": [
        "# feature & target\n",
        "all_features = [\n",
        "    'daily_social_media_time',\n",
        "    'number_of_notifications',\n",
        "    'screen_time_before_sleep',\n",
        "    'breaks_during_work',\n",
        "    'uses_focus_apps',\n",
        "    'has_digital_wellbeing_enabled',\n",
        "    'coffee_consumption_per_day',\n",
        "    'sleep_hours',\n",
        "    'weekly_offline_hours',\n",
        "    'age',\n",
        "    'gender',\n",
        "    'job_type',\n",
        "    'social_platform_preference',\n",
        "    'work_hours_per_day'\n",
        "]\n",
        "target = 'actual_productivity_score'"
      ],
      "outputs": [],
      "execution_count": 7,
      "metadata": {
        "gather": {
          "logged": 1750464611533
        }
      }
    },
    {
      "cell_type": "code",
      "source": [
        "# missing value handling\n",
        "print(\"\\n--- Initial Missing Values Across All Columns ---\")\n",
        "missing_info = df.isnull().sum()\n",
        "missing_percentage = (df.isnull().sum() / len(df)) * 100\n",
        "missing_df = pd.DataFrame({'Missing Count': missing_info, 'Missing %': missing_percentage})\n",
        "# This line prints the missing_df, filtered for columns with missing values, and sorted by \"Missing %\" in descending order\n",
        "print(missing_df.sort_values(by='Missing %', ascending=False))\n",
        "print(\"-\" * 50) "
      ],
      "outputs": [
        {
          "output_type": "stream",
          "name": "stdout",
          "text": "\n--- Initial Missing Values Across All Columns ---\n                                Missing Count  Missing %\ndaily_social_media_time                  2765   9.216667\njob_satisfaction_score                   2730   9.100000\nsleep_hours                              2598   8.660000\nactual_productivity_score                2365   7.883333\nscreen_time_before_sleep                 2211   7.370000\nstress_level                             1904   6.346667\nperceived_productivity_score             1614   5.380000\nwork_hours_per_day                          0   0.000000\nnumber_of_notifications                     0   0.000000\ngender                                      0   0.000000\nsocial_platform_preference                  0   0.000000\njob_type                                    0   0.000000\nbreaks_during_work                          0   0.000000\nuses_focus_apps                             0   0.000000\nhas_digital_wellbeing_enabled               0   0.000000\ncoffee_consumption_per_day                  0   0.000000\ndays_feeling_burnout_per_month              0   0.000000\nweekly_offline_hours                        0   0.000000\nage                                         0   0.000000\n--------------------------------------------------\n"
        }
      ],
      "execution_count": 15,
      "metadata": {
        "gather": {
          "logged": 1750464710660
        }
      }
    },
    {
      "cell_type": "code",
      "source": [],
      "outputs": [],
      "execution_count": null,
      "metadata": {}
    }
  ],
  "metadata": {
    "kernelspec": {
      "name": "datamart-v1",
      "language": "python",
      "display_name": "Python (datamart-v1)"
    },
    "language_info": {
      "name": "python",
      "version": "3.11.11",
      "mimetype": "text/x-python",
      "codemirror_mode": {
        "name": "ipython",
        "version": 3
      },
      "pygments_lexer": "ipython3",
      "nbconvert_exporter": "python",
      "file_extension": ".py"
    },
    "microsoft": {
      "ms_spell_check": {
        "ms_spell_check_language": "en"
      },
      "host": {
        "AzureML": {
          "notebookHasBeenCompleted": true
        }
      }
    },
    "kernel_info": {
      "name": "datamart-v1"
    },
    "nteract": {
      "version": "nteract-front-end@1.0.0"
    }
  },
  "nbformat": 4,
  "nbformat_minor": 2
}