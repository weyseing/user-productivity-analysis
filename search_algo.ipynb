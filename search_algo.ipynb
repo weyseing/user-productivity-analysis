{
  "cells": [
    {
      "cell_type": "markdown",
      "source": [
        "## Import "
      ],
      "metadata": {
        "nteract": {
          "transient": {
            "deleting": false
          }
        }
      }
    },
    {
      "cell_type": "code",
      "source": [
        "import os\n",
        "import heapq\n",
        "import joblib\n",
        "import random\n",
        "import numpy as np\n",
        "import pandas as pd\n",
        "from sklearn.pipeline import Pipeline\n",
        "from sklearn.compose import ColumnTransformer\n",
        "from sklearn.ensemble import RandomForestRegressor\n",
        "from sklearn.model_selection import train_test_split\n",
        "from sklearn.impute import SimpleImputer, KNNImputer \n",
        "from sklearn.metrics import mean_squared_error, r2_score\n",
        "from sklearn.preprocessing import StandardScaler, OneHotEncoder"
      ],
      "outputs": [],
      "execution_count": 75,
      "metadata": {
        "gather": {
          "logged": 1750472458694
        }
      }
    },
    {
      "cell_type": "markdown",
      "source": [
        "## Dataset"
      ],
      "metadata": {
        "nteract": {
          "transient": {
            "deleting": false
          }
        }
      }
    },
    {
      "cell_type": "code",
      "source": [
        "df = pd.read_csv(\"social_media_vs_productivity.csv\")\n",
        "df.head().T"
      ],
      "outputs": [
        {
          "output_type": "execute_result",
          "execution_count": 43,
          "data": {
            "text/plain": "                                         0         1          2           3  \\\nage                                     56        46         32          60   \ngender                                Male      Male       Male      Female   \njob_type                        Unemployed    Health    Finance  Unemployed   \ndaily_social_media_time            4.18094  3.249603        NaN         NaN   \nsocial_platform_preference        Facebook   Twitter    Twitter    Facebook   \nnumber_of_notifications                 61        59         57          59   \nwork_hours_per_day                6.753558  9.169296   7.910952    6.355027   \nperceived_productivity_score      8.040464  5.063368   3.861762    2.916331   \nactual_productivity_score         7.291555  5.165093   3.474053    1.774869   \nstress_level                           4.0       7.0        4.0         6.0   \nsleep_hours                       5.116546  5.103897   8.583222    6.052984   \nscreen_time_before_sleep          0.419102  0.671519   0.624378     1.20454   \nbreaks_during_work                       8         7          0           1   \nuses_focus_apps                      False      True       True       False   \nhas_digital_wellbeing_enabled        False      True      False       False   \ncoffee_consumption_per_day               4         2          3           0   \ndays_feeling_burnout_per_month          11        25         17           4   \nweekly_offline_hours             21.927072       0.0  10.322044   23.876616   \njob_satisfaction_score            6.336688  3.412427   2.474944     1.73367   \n\n                                        4  \nage                                    25  \ngender                               Male  \njob_type                               IT  \ndaily_social_media_time               NaN  \nsocial_platform_preference       Telegram  \nnumber_of_notifications                66  \nwork_hours_per_day               6.214096  \nperceived_productivity_score     8.868753  \nactual_productivity_score             NaN  \nstress_level                          7.0  \nsleep_hours                      5.405706  \nscreen_time_before_sleep         1.876254  \nbreaks_during_work                      1  \nuses_focus_apps                     False  \nhas_digital_wellbeing_enabled        True  \ncoffee_consumption_per_day              1  \ndays_feeling_burnout_per_month         30  \nweekly_offline_hours            10.653519  \njob_satisfaction_score            9.69306  ",
            "text/html": "<div>\n<style scoped>\n    .dataframe tbody tr th:only-of-type {\n        vertical-align: middle;\n    }\n\n    .dataframe tbody tr th {\n        vertical-align: top;\n    }\n\n    .dataframe thead th {\n        text-align: right;\n    }\n</style>\n<table border=\"1\" class=\"dataframe\">\n  <thead>\n    <tr style=\"text-align: right;\">\n      <th></th>\n      <th>0</th>\n      <th>1</th>\n      <th>2</th>\n      <th>3</th>\n      <th>4</th>\n    </tr>\n  </thead>\n  <tbody>\n    <tr>\n      <th>age</th>\n      <td>56</td>\n      <td>46</td>\n      <td>32</td>\n      <td>60</td>\n      <td>25</td>\n    </tr>\n    <tr>\n      <th>gender</th>\n      <td>Male</td>\n      <td>Male</td>\n      <td>Male</td>\n      <td>Female</td>\n      <td>Male</td>\n    </tr>\n    <tr>\n      <th>job_type</th>\n      <td>Unemployed</td>\n      <td>Health</td>\n      <td>Finance</td>\n      <td>Unemployed</td>\n      <td>IT</td>\n    </tr>\n    <tr>\n      <th>daily_social_media_time</th>\n      <td>4.18094</td>\n      <td>3.249603</td>\n      <td>NaN</td>\n      <td>NaN</td>\n      <td>NaN</td>\n    </tr>\n    <tr>\n      <th>social_platform_preference</th>\n      <td>Facebook</td>\n      <td>Twitter</td>\n      <td>Twitter</td>\n      <td>Facebook</td>\n      <td>Telegram</td>\n    </tr>\n    <tr>\n      <th>number_of_notifications</th>\n      <td>61</td>\n      <td>59</td>\n      <td>57</td>\n      <td>59</td>\n      <td>66</td>\n    </tr>\n    <tr>\n      <th>work_hours_per_day</th>\n      <td>6.753558</td>\n      <td>9.169296</td>\n      <td>7.910952</td>\n      <td>6.355027</td>\n      <td>6.214096</td>\n    </tr>\n    <tr>\n      <th>perceived_productivity_score</th>\n      <td>8.040464</td>\n      <td>5.063368</td>\n      <td>3.861762</td>\n      <td>2.916331</td>\n      <td>8.868753</td>\n    </tr>\n    <tr>\n      <th>actual_productivity_score</th>\n      <td>7.291555</td>\n      <td>5.165093</td>\n      <td>3.474053</td>\n      <td>1.774869</td>\n      <td>NaN</td>\n    </tr>\n    <tr>\n      <th>stress_level</th>\n      <td>4.0</td>\n      <td>7.0</td>\n      <td>4.0</td>\n      <td>6.0</td>\n      <td>7.0</td>\n    </tr>\n    <tr>\n      <th>sleep_hours</th>\n      <td>5.116546</td>\n      <td>5.103897</td>\n      <td>8.583222</td>\n      <td>6.052984</td>\n      <td>5.405706</td>\n    </tr>\n    <tr>\n      <th>screen_time_before_sleep</th>\n      <td>0.419102</td>\n      <td>0.671519</td>\n      <td>0.624378</td>\n      <td>1.20454</td>\n      <td>1.876254</td>\n    </tr>\n    <tr>\n      <th>breaks_during_work</th>\n      <td>8</td>\n      <td>7</td>\n      <td>0</td>\n      <td>1</td>\n      <td>1</td>\n    </tr>\n    <tr>\n      <th>uses_focus_apps</th>\n      <td>False</td>\n      <td>True</td>\n      <td>True</td>\n      <td>False</td>\n      <td>False</td>\n    </tr>\n    <tr>\n      <th>has_digital_wellbeing_enabled</th>\n      <td>False</td>\n      <td>True</td>\n      <td>False</td>\n      <td>False</td>\n      <td>True</td>\n    </tr>\n    <tr>\n      <th>coffee_consumption_per_day</th>\n      <td>4</td>\n      <td>2</td>\n      <td>3</td>\n      <td>0</td>\n      <td>1</td>\n    </tr>\n    <tr>\n      <th>days_feeling_burnout_per_month</th>\n      <td>11</td>\n      <td>25</td>\n      <td>17</td>\n      <td>4</td>\n      <td>30</td>\n    </tr>\n    <tr>\n      <th>weekly_offline_hours</th>\n      <td>21.927072</td>\n      <td>0.0</td>\n      <td>10.322044</td>\n      <td>23.876616</td>\n      <td>10.653519</td>\n    </tr>\n    <tr>\n      <th>job_satisfaction_score</th>\n      <td>6.336688</td>\n      <td>3.412427</td>\n      <td>2.474944</td>\n      <td>1.73367</td>\n      <td>9.69306</td>\n    </tr>\n  </tbody>\n</table>\n</div>"
          },
          "metadata": {}
        }
      ],
      "execution_count": 43,
      "metadata": {
        "gather": {
          "logged": 1750468336698
        }
      }
    },
    {
      "cell_type": "markdown",
      "source": [
        "## Column Types"
      ],
      "metadata": {
        "nteract": {
          "transient": {
            "deleting": false
          }
        }
      }
    },
    {
      "cell_type": "code",
      "source": [
        "# feature & target\n",
        "all_features = [\n",
        "    'daily_social_media_time',\n",
        "    'number_of_notifications',\n",
        "    'screen_time_before_sleep',\n",
        "    'breaks_during_work',\n",
        "    'uses_focus_apps',\n",
        "    'has_digital_wellbeing_enabled',\n",
        "    'coffee_consumption_per_day',\n",
        "    'sleep_hours',\n",
        "    'weekly_offline_hours',\n",
        "    'age',\n",
        "    'gender',\n",
        "    'job_type',\n",
        "    'social_platform_preference',\n",
        "    'work_hours_per_day'\n",
        "]\n",
        "target = 'actual_productivity_score'\n",
        "\n",
        "X = df[all_features].copy() # Use .copy() to avoid SettingWithCopyWarning\n",
        "y = df[target]"
      ],
      "outputs": [],
      "execution_count": 44,
      "metadata": {
        "gather": {
          "logged": 1750468336791
        }
      }
    },
    {
      "cell_type": "code",
      "source": [
        "# numeric & categorical\n",
        "numerical_cols = X.select_dtypes(include=np.number).columns.tolist()\n",
        "categorical_cols = X.select_dtypes(include='object').columns.tolist()"
      ],
      "outputs": [],
      "execution_count": 45,
      "metadata": {
        "gather": {
          "logged": 1750468336876
        }
      }
    },
    {
      "cell_type": "markdown",
      "source": [
        "## Missing Value"
      ],
      "metadata": {
        "nteract": {
          "transient": {
            "deleting": false
          }
        }
      }
    },
    {
      "cell_type": "code",
      "source": [
        "# check missing\n",
        "print(\"\\n--- Initial Missing Values Across All Columns ---\")\n",
        "missing_info = df.isnull().sum()\n",
        "missing_percentage = (df.isnull().sum() / len(df)) * 100\n",
        "missing_df = pd.DataFrame({'Missing Count': missing_info, 'Missing %': missing_percentage})\n",
        "print(missing_df.sort_values(by='Missing %', ascending=False))\n",
        "print(\"-\" * 50) "
      ],
      "outputs": [
        {
          "output_type": "stream",
          "name": "stdout",
          "text": "\n--- Initial Missing Values Across All Columns ---\n                                Missing Count  Missing %\ndaily_social_media_time                  2765   9.216667\njob_satisfaction_score                   2730   9.100000\nsleep_hours                              2598   8.660000\nactual_productivity_score                2365   7.883333\nscreen_time_before_sleep                 2211   7.370000\nstress_level                             1904   6.346667\nperceived_productivity_score             1614   5.380000\nwork_hours_per_day                          0   0.000000\nnumber_of_notifications                     0   0.000000\ngender                                      0   0.000000\nsocial_platform_preference                  0   0.000000\njob_type                                    0   0.000000\nbreaks_during_work                          0   0.000000\nuses_focus_apps                             0   0.000000\nhas_digital_wellbeing_enabled               0   0.000000\ncoffee_consumption_per_day                  0   0.000000\ndays_feeling_burnout_per_month              0   0.000000\nweekly_offline_hours                        0   0.000000\nage                                         0   0.000000\n--------------------------------------------------\n"
        }
      ],
      "execution_count": 46,
      "metadata": {
        "gather": {
          "logged": 1750468336967
        }
      }
    },
    {
      "cell_type": "markdown",
      "source": [
        "## Tran-Test Split"
      ],
      "metadata": {
        "nteract": {
          "transient": {
            "deleting": false
          }
        }
      }
    },
    {
      "cell_type": "code",
      "source": [
        "X_train, X_test, y_train, y_test = train_test_split(X, y, test_size=0.2, random_state=42)\n",
        "print(f\"\\nTrain set shape: {X_train.shape}, Test set shape: {X_test.shape}\")"
      ],
      "outputs": [
        {
          "output_type": "stream",
          "name": "stdout",
          "text": "\nTrain set shape: (24000, 14), Test set shape: (6000, 14)\n"
        }
      ],
      "execution_count": 73,
      "metadata": {
        "gather": {
          "logged": 1750472384808
        }
      }
    },
    {
      "cell_type": "markdown",
      "source": [
        "## Pre-Processing Pipelines"
      ],
      "metadata": {
        "nteract": {
          "transient": {
            "deleting": false
          }
        }
      }
    },
    {
      "cell_type": "code",
      "source": [
        "# numeric (imputer, scaler)\n",
        "numerical_transformer = Pipeline(steps=[\n",
        "    ('imputer', KNNImputer(n_neighbors=5)),\n",
        "    ('scaler', StandardScaler())\n",
        "])\n",
        "\n",
        "# categorical (imputer, encoder)\n",
        "categorical_transformer = Pipeline(steps=[\n",
        "    ('imputer', SimpleImputer(strategy='most_frequent')),\n",
        "    ('onehot', OneHotEncoder(handle_unknown='ignore'))\n",
        "])\n",
        "\n",
        "# preprocessor\n",
        "preprocessor = ColumnTransformer(\n",
        "    transformers=[\n",
        "        ('num', numerical_transformer, numerical_cols),\n",
        "        ('cat', categorical_transformer, categorical_cols)\n",
        "    ],\n",
        "    remainder='passthrough'\n",
        ")"
      ],
      "outputs": [],
      "execution_count": 50,
      "metadata": {
        "gather": {
          "logged": 1750468483205
        }
      }
    },
    {
      "cell_type": "code",
      "source": [
        "# fit & transform\n",
        "print(\"Fitting and transforming data with preprocessor...\")\n",
        "X_train_transformed = preprocessor.fit_transform(X_train)\n",
        "X_test_transformed = preprocessor.transform(X_test)\n",
        "print(f\"X_train_transformed shape: {X_train_transformed.shape}\")"
      ],
      "outputs": [
        {
          "output_type": "stream",
          "name": "stdout",
          "text": "Fitting and transforming data with preprocessor...\nX_train_transformed shape: (24000, 25)\n"
        }
      ],
      "execution_count": 74,
      "metadata": {
        "gather": {
          "logged": 1750472407246
        }
      }
    },
    {
      "cell_type": "code",
      "source": [
        "# preview result\n",
        "feature_names_out = preprocessor.get_feature_names_out()\n",
        "if hasattr(X_train_transformed, 'toarray'):\n",
        "    X_transformed_dense = X_train_transformed.toarray()\n",
        "else:\n",
        "    X_transformed_dense = X_train_transformed\n",
        "X_transformed_df = pd.DataFrame(X_transformed_dense, columns=feature_names_out)\n",
        "\n",
        "print(f\"\\nShape of Transformed X DataFrame: {X_transformed_df.shape}\")\n",
        "print(\"\\n--- First 5 rows of Transformed X (as DataFrame) ---\")\n",
        "X_transformed_df.head().T"
      ],
      "outputs": [
        {
          "output_type": "stream",
          "name": "stdout",
          "text": "\nShape of Transformed X DataFrame: (30000, 25)\n\n--- First 5 rows of Transformed X (as DataFrame) ---\n"
        },
        {
          "output_type": "execute_result",
          "execution_count": 67,
          "data": {
            "text/plain": "                                                  0         1         2  \\\nnum__daily_social_media_time               0.535151  0.068479 -0.829395   \nnum__number_of_notifications               0.134811 -0.124134 -0.383079   \nnum__screen_time_before_sleep             -0.957441 -0.559208 -0.633582   \nnum__breaks_during_work                    0.947731  0.632640 -1.572998   \nnum__coffee_consumption_per_day            1.418913  0.000496  0.709705   \nnum__sleep_hours                          -0.979844 -0.988801  1.474890   \nnum__weekly_offline_hours                  1.588729 -1.423109 -0.005303   \nnum__age                                   1.049017  0.326212 -0.685715   \nnum__work_hours_per_day                   -0.118753  1.090505  0.460609   \ncat__gender_Female                         0.000000  0.000000  0.000000   \ncat__gender_Male                           1.000000  1.000000  1.000000   \ncat__gender_Other                          0.000000  0.000000  0.000000   \ncat__job_type_Education                    0.000000  0.000000  0.000000   \ncat__job_type_Finance                      0.000000  0.000000  1.000000   \ncat__job_type_Health                       0.000000  1.000000  0.000000   \ncat__job_type_IT                           0.000000  0.000000  0.000000   \ncat__job_type_Student                      0.000000  0.000000  0.000000   \ncat__job_type_Unemployed                   1.000000  0.000000  0.000000   \ncat__social_platform_preference_Facebook   1.000000  0.000000  0.000000   \ncat__social_platform_preference_Instagram  0.000000  0.000000  0.000000   \ncat__social_platform_preference_Telegram   0.000000  0.000000  0.000000   \ncat__social_platform_preference_TikTok     0.000000  0.000000  0.000000   \ncat__social_platform_preference_Twitter    0.000000  1.000000  1.000000   \nremainder__uses_focus_apps                 0.000000  1.000000  1.000000   \nremainder__has_digital_wellbeing_enabled   0.000000  1.000000  0.000000   \n\n                                                  3         4  \nnum__daily_social_media_time               0.619826  0.316361  \nnum__number_of_notifications              -0.124134  0.782174  \nnum__screen_time_before_sleep              0.281729  1.341478  \nnum__breaks_during_work                   -1.257907 -1.257907  \nnum__coffee_consumption_per_day           -1.417920 -0.708712  \nnum__sleep_hours                          -0.316757 -0.775091  \nnum__weekly_offline_hours                  1.856513  0.040227  \nnum__age                                   1.338138 -1.191679  \nnum__work_hours_per_day                   -0.318248 -0.388795  \ncat__gender_Female                         1.000000  0.000000  \ncat__gender_Male                           0.000000  1.000000  \ncat__gender_Other                          0.000000  0.000000  \ncat__job_type_Education                    0.000000  0.000000  \ncat__job_type_Finance                      0.000000  0.000000  \ncat__job_type_Health                       0.000000  0.000000  \ncat__job_type_IT                           0.000000  1.000000  \ncat__job_type_Student                      0.000000  0.000000  \ncat__job_type_Unemployed                   1.000000  0.000000  \ncat__social_platform_preference_Facebook   1.000000  0.000000  \ncat__social_platform_preference_Instagram  0.000000  0.000000  \ncat__social_platform_preference_Telegram   0.000000  1.000000  \ncat__social_platform_preference_TikTok     0.000000  0.000000  \ncat__social_platform_preference_Twitter    0.000000  0.000000  \nremainder__uses_focus_apps                 0.000000  0.000000  \nremainder__has_digital_wellbeing_enabled   0.000000  1.000000  ",
            "text/html": "<div>\n<style scoped>\n    .dataframe tbody tr th:only-of-type {\n        vertical-align: middle;\n    }\n\n    .dataframe tbody tr th {\n        vertical-align: top;\n    }\n\n    .dataframe thead th {\n        text-align: right;\n    }\n</style>\n<table border=\"1\" class=\"dataframe\">\n  <thead>\n    <tr style=\"text-align: right;\">\n      <th></th>\n      <th>0</th>\n      <th>1</th>\n      <th>2</th>\n      <th>3</th>\n      <th>4</th>\n    </tr>\n  </thead>\n  <tbody>\n    <tr>\n      <th>num__daily_social_media_time</th>\n      <td>0.535151</td>\n      <td>0.068479</td>\n      <td>-0.829395</td>\n      <td>0.619826</td>\n      <td>0.316361</td>\n    </tr>\n    <tr>\n      <th>num__number_of_notifications</th>\n      <td>0.134811</td>\n      <td>-0.124134</td>\n      <td>-0.383079</td>\n      <td>-0.124134</td>\n      <td>0.782174</td>\n    </tr>\n    <tr>\n      <th>num__screen_time_before_sleep</th>\n      <td>-0.957441</td>\n      <td>-0.559208</td>\n      <td>-0.633582</td>\n      <td>0.281729</td>\n      <td>1.341478</td>\n    </tr>\n    <tr>\n      <th>num__breaks_during_work</th>\n      <td>0.947731</td>\n      <td>0.632640</td>\n      <td>-1.572998</td>\n      <td>-1.257907</td>\n      <td>-1.257907</td>\n    </tr>\n    <tr>\n      <th>num__coffee_consumption_per_day</th>\n      <td>1.418913</td>\n      <td>0.000496</td>\n      <td>0.709705</td>\n      <td>-1.417920</td>\n      <td>-0.708712</td>\n    </tr>\n    <tr>\n      <th>num__sleep_hours</th>\n      <td>-0.979844</td>\n      <td>-0.988801</td>\n      <td>1.474890</td>\n      <td>-0.316757</td>\n      <td>-0.775091</td>\n    </tr>\n    <tr>\n      <th>num__weekly_offline_hours</th>\n      <td>1.588729</td>\n      <td>-1.423109</td>\n      <td>-0.005303</td>\n      <td>1.856513</td>\n      <td>0.040227</td>\n    </tr>\n    <tr>\n      <th>num__age</th>\n      <td>1.049017</td>\n      <td>0.326212</td>\n      <td>-0.685715</td>\n      <td>1.338138</td>\n      <td>-1.191679</td>\n    </tr>\n    <tr>\n      <th>num__work_hours_per_day</th>\n      <td>-0.118753</td>\n      <td>1.090505</td>\n      <td>0.460609</td>\n      <td>-0.318248</td>\n      <td>-0.388795</td>\n    </tr>\n    <tr>\n      <th>cat__gender_Female</th>\n      <td>0.000000</td>\n      <td>0.000000</td>\n      <td>0.000000</td>\n      <td>1.000000</td>\n      <td>0.000000</td>\n    </tr>\n    <tr>\n      <th>cat__gender_Male</th>\n      <td>1.000000</td>\n      <td>1.000000</td>\n      <td>1.000000</td>\n      <td>0.000000</td>\n      <td>1.000000</td>\n    </tr>\n    <tr>\n      <th>cat__gender_Other</th>\n      <td>0.000000</td>\n      <td>0.000000</td>\n      <td>0.000000</td>\n      <td>0.000000</td>\n      <td>0.000000</td>\n    </tr>\n    <tr>\n      <th>cat__job_type_Education</th>\n      <td>0.000000</td>\n      <td>0.000000</td>\n      <td>0.000000</td>\n      <td>0.000000</td>\n      <td>0.000000</td>\n    </tr>\n    <tr>\n      <th>cat__job_type_Finance</th>\n      <td>0.000000</td>\n      <td>0.000000</td>\n      <td>1.000000</td>\n      <td>0.000000</td>\n      <td>0.000000</td>\n    </tr>\n    <tr>\n      <th>cat__job_type_Health</th>\n      <td>0.000000</td>\n      <td>1.000000</td>\n      <td>0.000000</td>\n      <td>0.000000</td>\n      <td>0.000000</td>\n    </tr>\n    <tr>\n      <th>cat__job_type_IT</th>\n      <td>0.000000</td>\n      <td>0.000000</td>\n      <td>0.000000</td>\n      <td>0.000000</td>\n      <td>1.000000</td>\n    </tr>\n    <tr>\n      <th>cat__job_type_Student</th>\n      <td>0.000000</td>\n      <td>0.000000</td>\n      <td>0.000000</td>\n      <td>0.000000</td>\n      <td>0.000000</td>\n    </tr>\n    <tr>\n      <th>cat__job_type_Unemployed</th>\n      <td>1.000000</td>\n      <td>0.000000</td>\n      <td>0.000000</td>\n      <td>1.000000</td>\n      <td>0.000000</td>\n    </tr>\n    <tr>\n      <th>cat__social_platform_preference_Facebook</th>\n      <td>1.000000</td>\n      <td>0.000000</td>\n      <td>0.000000</td>\n      <td>1.000000</td>\n      <td>0.000000</td>\n    </tr>\n    <tr>\n      <th>cat__social_platform_preference_Instagram</th>\n      <td>0.000000</td>\n      <td>0.000000</td>\n      <td>0.000000</td>\n      <td>0.000000</td>\n      <td>0.000000</td>\n    </tr>\n    <tr>\n      <th>cat__social_platform_preference_Telegram</th>\n      <td>0.000000</td>\n      <td>0.000000</td>\n      <td>0.000000</td>\n      <td>0.000000</td>\n      <td>1.000000</td>\n    </tr>\n    <tr>\n      <th>cat__social_platform_preference_TikTok</th>\n      <td>0.000000</td>\n      <td>0.000000</td>\n      <td>0.000000</td>\n      <td>0.000000</td>\n      <td>0.000000</td>\n    </tr>\n    <tr>\n      <th>cat__social_platform_preference_Twitter</th>\n      <td>0.000000</td>\n      <td>1.000000</td>\n      <td>1.000000</td>\n      <td>0.000000</td>\n      <td>0.000000</td>\n    </tr>\n    <tr>\n      <th>remainder__uses_focus_apps</th>\n      <td>0.000000</td>\n      <td>1.000000</td>\n      <td>1.000000</td>\n      <td>0.000000</td>\n      <td>0.000000</td>\n    </tr>\n    <tr>\n      <th>remainder__has_digital_wellbeing_enabled</th>\n      <td>0.000000</td>\n      <td>1.000000</td>\n      <td>0.000000</td>\n      <td>0.000000</td>\n      <td>1.000000</td>\n    </tr>\n  </tbody>\n</table>\n</div>"
          },
          "metadata": {}
        }
      ],
      "execution_count": 67,
      "metadata": {
        "gather": {
          "logged": 1750469029440
        }
      }
    },
    {
      "cell_type": "code",
      "source": [
        "# export proprocessor\n",
        "PREPROCESSOR_PATH = \"model_preprocessor.pkl\"\n",
        "joblib.dump(preprocessor, PREPROCESSOR_PATH)\n",
        "print(f\"Preprocessor saved to: {PREPROCESSOR_PATH}\")"
      ],
      "outputs": [],
      "execution_count": null,
      "metadata": {}
    },
    {
      "cell_type": "markdown",
      "source": [
        "## Random Forest Regressor"
      ],
      "metadata": {
        "nteract": {
          "transient": {
            "deleting": false
          }
        }
      }
    },
    {
      "cell_type": "code",
      "source": [
        "# fit\n",
        "print(\"Training RandomForestRegressor model...\")\n",
        "model = RandomForestRegressor(n_estimators=100, random_state=42, n_jobs=-1)\n",
        "model.fit(X_transformed_df, y_train)\n",
        "print(\"RandomForestRegressor model training complete.\")"
      ],
      "outputs": [
        {
          "output_type": "stream",
          "name": "stdout",
          "text": "Training RandomForestRegressor model...\n"
        },
        {
          "output_type": "error",
          "ename": "NameError",
          "evalue": "name 'y_train' is not defined",
          "traceback": [
            "\u001b[31m---------------------------------------------------------------------------\u001b[39m",
            "\u001b[31mNameError\u001b[39m                                 Traceback (most recent call last)",
            "\u001b[36mCell\u001b[39m\u001b[36m \u001b[39m\u001b[32mIn[72]\u001b[39m\u001b[32m, line 4\u001b[39m\n\u001b[32m      2\u001b[39m \u001b[38;5;28mprint\u001b[39m(\u001b[33m\"\u001b[39m\u001b[33mTraining RandomForestRegressor model...\u001b[39m\u001b[33m\"\u001b[39m)\n\u001b[32m      3\u001b[39m model = RandomForestRegressor(n_estimators=\u001b[32m100\u001b[39m, random_state=\u001b[32m42\u001b[39m, n_jobs=-\u001b[32m1\u001b[39m)\n\u001b[32m----> \u001b[39m\u001b[32m4\u001b[39m model.fit(X_transformed_df, \u001b[43my_train\u001b[49m)\n\u001b[32m      5\u001b[39m \u001b[38;5;28mprint\u001b[39m(\u001b[33m\"\u001b[39m\u001b[33mRandomForestRegressor model training complete.\u001b[39m\u001b[33m\"\u001b[39m)\n",
            "\u001b[31mNameError\u001b[39m: name 'y_train' is not defined"
          ]
        }
      ],
      "execution_count": 72,
      "metadata": {
        "gather": {
          "logged": 1750472343321
        }
      }
    },
    {
      "cell_type": "code",
      "source": [
        "# eval\n",
        "y_pred = model.predict(X_test_transformed)\n",
        "mse = mean_squared_error(y_test, y_pred)\n",
        "r2 = r2_score(y_test, y_pred)\n",
        "print(f\"\\nModel Performance:\")\n",
        "print(f\"  Mean Squared Error (MSE): {mse:.4f}\")\n",
        "print(f\"  R2 Score: {r2:.4f}\")"
      ],
      "outputs": [],
      "execution_count": null,
      "metadata": {}
    },
    {
      "cell_type": "markdown",
      "source": [
        "## Informed Search"
      ],
      "metadata": {
        "nteract": {
          "transient": {
            "deleting": false
          }
        }
      }
    },
    {
      "cell_type": "code",
      "source": [],
      "outputs": [],
      "execution_count": null,
      "metadata": {}
    }
  ],
  "metadata": {
    "kernelspec": {
      "name": "datamart-v1",
      "language": "python",
      "display_name": "Python (datamart-v1)"
    },
    "language_info": {
      "name": "python",
      "version": "3.11.11",
      "mimetype": "text/x-python",
      "codemirror_mode": {
        "name": "ipython",
        "version": 3
      },
      "pygments_lexer": "ipython3",
      "nbconvert_exporter": "python",
      "file_extension": ".py"
    },
    "microsoft": {
      "ms_spell_check": {
        "ms_spell_check_language": "en"
      },
      "host": {
        "AzureML": {
          "notebookHasBeenCompleted": true
        }
      }
    },
    "kernel_info": {
      "name": "datamart-v1"
    },
    "nteract": {
      "version": "nteract-front-end@1.0.0"
    }
  },
  "nbformat": 4,
  "nbformat_minor": 2
}